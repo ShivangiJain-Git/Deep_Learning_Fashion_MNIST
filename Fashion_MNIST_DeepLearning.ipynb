{
  "nbformat": 4,
  "nbformat_minor": 0,
  "metadata": {
    "colab": {
      "name": "Fashion_MNIST_DeepLearning.ipynb",
      "provenance": [],
      "collapsed_sections": []
    },
    "kernelspec": {
      "name": "python3",
      "display_name": "Python 3"
    },
    "accelerator": "GPU"
  },
  "cells": [
    {
      "cell_type": "markdown",
      "metadata": {
        "id": "4ZD-FcAHum1E"
      },
      "source": [
        "# Fashion MNIST Case Study using Deep Learning"
      ]
    },
    {
      "cell_type": "markdown",
      "metadata": {
        "id": "moj9Gk-sum4l"
      },
      "source": [
        "### Context "
      ]
    },
    {
      "cell_type": "markdown",
      "metadata": {
        "id": "0On7wbfWDt9j"
      },
      "source": [
        "Fashion-MNIST is a dataset of Zalando's article images—consisting of a training set of 60,000 examples and a test set of 10,000 examples. Each example is a 28x28 grayscale image, associated with a label from 10 classes. It shares the same image size and structure of training and testing splits like MNIST.\r\n"
      ]
    },
    {
      "cell_type": "markdown",
      "metadata": {
        "id": "VVzTfAZcDuB2"
      },
      "source": [
        "### Data Description"
      ]
    },
    {
      "cell_type": "markdown",
      "metadata": {
        "id": "bp9MjBO8DuJK"
      },
      "source": [
        "Content\r\n",
        "Each image is 28 pixels in height and 28 pixels in width, for a total of 784 pixels in total. Each pixel has a single pixel-value associated with it, indicating the lightness or darkness of that pixel, with higher numbers meaning darker. This pixel-value is an integer between 0 and 255. The training and test data sets have 785 columns. The first column consists of the class labels (see above), and represents the article of clothing. The rest of the columns contain the pixel-values of the associated image.\r\n",
        "\r\n",
        "To locate a pixel on the image, suppose that we have decomposed x as x = i * 28 + j, where i and j are integers between 0 and 27. The pixel is located on row i and column j of a 28 x 28 matrix.\r\n",
        "For example, pixel31 indicates the pixel that is in the fourth column from the left, and the second row from the top, as in the ascii-diagram below.\r\n",
        "\r\n",
        "\r\n",
        "Labels\r\n",
        "\r\n",
        "Each training and test example is assigned to one of the following labels:\r\n",
        "\r\n",
        "0    T-shirt/top\r\n",
        "\r\n",
        "1    Trouser\r\n",
        "\r\n",
        "2    Pullover\r\n",
        "\r\n",
        "3    Dress\r\n",
        "\r\n",
        "4    Coat\r\n",
        "\r\n",
        "5    Sandal\r\n",
        "\r\n",
        "6    Shirt\r\n",
        "\r\n",
        "7    Sneaker\r\n",
        "\r\n",
        "8    Bag\r\n",
        "\r\n",
        "9    Ankle boot"
      ]
    },
    {
      "cell_type": "markdown",
      "metadata": {
        "id": "LZQibrLsEkLb"
      },
      "source": [
        "### Objective "
      ]
    },
    {
      "cell_type": "markdown",
      "metadata": {
        "id": "b6qUxmn9EkOX"
      },
      "source": [
        "To create a Deep learning model to classify different Fashion MNIST classes."
      ]
    },
    {
      "cell_type": "markdown",
      "metadata": {
        "id": "45lGiZWtEkRn"
      },
      "source": [
        "### Installing tensorflow-gpu"
      ]
    },
    {
      "cell_type": "code",
      "metadata": {
        "colab": {
          "base_uri": "https://localhost:8080/"
        },
        "id": "NN0yCKNQuwgd",
        "outputId": "07f01514-5eda-4a15-9cea-e02c2be7ed4a"
      },
      "source": [
        "pip install tensorflow-gpu"
      ],
      "execution_count": 1,
      "outputs": [
        {
          "output_type": "stream",
          "text": [
            "Collecting tensorflow-gpu\n",
            "\u001b[?25l  Downloading https://files.pythonhosted.org/packages/f0/6d/67169e8d8146f377bbfd71d6c108a0fce218411371ce41d440a7a5f5fb20/tensorflow_gpu-2.4.1-cp36-cp36m-manylinux2010_x86_64.whl (394.3MB)\n",
            "\u001b[K     |████████████████████████████████| 394.3MB 42kB/s \n",
            "\u001b[?25hRequirement already satisfied: grpcio~=1.32.0 in /usr/local/lib/python3.6/dist-packages (from tensorflow-gpu) (1.32.0)\n",
            "Requirement already satisfied: absl-py~=0.10 in /usr/local/lib/python3.6/dist-packages (from tensorflow-gpu) (0.10.0)\n",
            "Requirement already satisfied: keras-preprocessing~=1.1.2 in /usr/local/lib/python3.6/dist-packages (from tensorflow-gpu) (1.1.2)\n",
            "Requirement already satisfied: protobuf>=3.9.2 in /usr/local/lib/python3.6/dist-packages (from tensorflow-gpu) (3.12.4)\n",
            "Requirement already satisfied: typing-extensions~=3.7.4 in /usr/local/lib/python3.6/dist-packages (from tensorflow-gpu) (3.7.4.3)\n",
            "Requirement already satisfied: numpy~=1.19.2 in /usr/local/lib/python3.6/dist-packages (from tensorflow-gpu) (1.19.5)\n",
            "Requirement already satisfied: opt-einsum~=3.3.0 in /usr/local/lib/python3.6/dist-packages (from tensorflow-gpu) (3.3.0)\n",
            "Requirement already satisfied: six~=1.15.0 in /usr/local/lib/python3.6/dist-packages (from tensorflow-gpu) (1.15.0)\n",
            "Requirement already satisfied: astunparse~=1.6.3 in /usr/local/lib/python3.6/dist-packages (from tensorflow-gpu) (1.6.3)\n",
            "Requirement already satisfied: termcolor~=1.1.0 in /usr/local/lib/python3.6/dist-packages (from tensorflow-gpu) (1.1.0)\n",
            "Requirement already satisfied: tensorboard~=2.4 in /usr/local/lib/python3.6/dist-packages (from tensorflow-gpu) (2.4.1)\n",
            "Requirement already satisfied: gast==0.3.3 in /usr/local/lib/python3.6/dist-packages (from tensorflow-gpu) (0.3.3)\n",
            "Requirement already satisfied: flatbuffers~=1.12.0 in /usr/local/lib/python3.6/dist-packages (from tensorflow-gpu) (1.12)\n",
            "Requirement already satisfied: wheel~=0.35 in /usr/local/lib/python3.6/dist-packages (from tensorflow-gpu) (0.36.2)\n",
            "Requirement already satisfied: tensorflow-estimator<2.5.0,>=2.4.0 in /usr/local/lib/python3.6/dist-packages (from tensorflow-gpu) (2.4.0)\n",
            "Requirement already satisfied: google-pasta~=0.2 in /usr/local/lib/python3.6/dist-packages (from tensorflow-gpu) (0.2.0)\n",
            "Requirement already satisfied: wrapt~=1.12.1 in /usr/local/lib/python3.6/dist-packages (from tensorflow-gpu) (1.12.1)\n",
            "Requirement already satisfied: h5py~=2.10.0 in /usr/local/lib/python3.6/dist-packages (from tensorflow-gpu) (2.10.0)\n",
            "Requirement already satisfied: setuptools in /usr/local/lib/python3.6/dist-packages (from protobuf>=3.9.2->tensorflow-gpu) (51.3.3)\n",
            "Requirement already satisfied: google-auth-oauthlib<0.5,>=0.4.1 in /usr/local/lib/python3.6/dist-packages (from tensorboard~=2.4->tensorflow-gpu) (0.4.2)\n",
            "Requirement already satisfied: requests<3,>=2.21.0 in /usr/local/lib/python3.6/dist-packages (from tensorboard~=2.4->tensorflow-gpu) (2.23.0)\n",
            "Requirement already satisfied: google-auth<2,>=1.6.3 in /usr/local/lib/python3.6/dist-packages (from tensorboard~=2.4->tensorflow-gpu) (1.17.2)\n",
            "Requirement already satisfied: markdown>=2.6.8 in /usr/local/lib/python3.6/dist-packages (from tensorboard~=2.4->tensorflow-gpu) (3.3.3)\n",
            "Requirement already satisfied: werkzeug>=0.11.15 in /usr/local/lib/python3.6/dist-packages (from tensorboard~=2.4->tensorflow-gpu) (1.0.1)\n",
            "Requirement already satisfied: tensorboard-plugin-wit>=1.6.0 in /usr/local/lib/python3.6/dist-packages (from tensorboard~=2.4->tensorflow-gpu) (1.8.0)\n",
            "Requirement already satisfied: requests-oauthlib>=0.7.0 in /usr/local/lib/python3.6/dist-packages (from google-auth-oauthlib<0.5,>=0.4.1->tensorboard~=2.4->tensorflow-gpu) (1.3.0)\n",
            "Requirement already satisfied: certifi>=2017.4.17 in /usr/local/lib/python3.6/dist-packages (from requests<3,>=2.21.0->tensorboard~=2.4->tensorflow-gpu) (2020.12.5)\n",
            "Requirement already satisfied: urllib3!=1.25.0,!=1.25.1,<1.26,>=1.21.1 in /usr/local/lib/python3.6/dist-packages (from requests<3,>=2.21.0->tensorboard~=2.4->tensorflow-gpu) (1.24.3)\n",
            "Requirement already satisfied: chardet<4,>=3.0.2 in /usr/local/lib/python3.6/dist-packages (from requests<3,>=2.21.0->tensorboard~=2.4->tensorflow-gpu) (3.0.4)\n",
            "Requirement already satisfied: idna<3,>=2.5 in /usr/local/lib/python3.6/dist-packages (from requests<3,>=2.21.0->tensorboard~=2.4->tensorflow-gpu) (2.10)\n",
            "Requirement already satisfied: pyasn1-modules>=0.2.1 in /usr/local/lib/python3.6/dist-packages (from google-auth<2,>=1.6.3->tensorboard~=2.4->tensorflow-gpu) (0.2.8)\n",
            "Requirement already satisfied: cachetools<5.0,>=2.0.0 in /usr/local/lib/python3.6/dist-packages (from google-auth<2,>=1.6.3->tensorboard~=2.4->tensorflow-gpu) (4.2.1)\n",
            "Requirement already satisfied: rsa<5,>=3.1.4; python_version >= \"3\" in /usr/local/lib/python3.6/dist-packages (from google-auth<2,>=1.6.3->tensorboard~=2.4->tensorflow-gpu) (4.7)\n",
            "Requirement already satisfied: importlib-metadata; python_version < \"3.8\" in /usr/local/lib/python3.6/dist-packages (from markdown>=2.6.8->tensorboard~=2.4->tensorflow-gpu) (3.4.0)\n",
            "Requirement already satisfied: oauthlib>=3.0.0 in /usr/local/lib/python3.6/dist-packages (from requests-oauthlib>=0.7.0->google-auth-oauthlib<0.5,>=0.4.1->tensorboard~=2.4->tensorflow-gpu) (3.1.0)\n",
            "Requirement already satisfied: pyasn1<0.5.0,>=0.4.6 in /usr/local/lib/python3.6/dist-packages (from pyasn1-modules>=0.2.1->google-auth<2,>=1.6.3->tensorboard~=2.4->tensorflow-gpu) (0.4.8)\n",
            "Requirement already satisfied: zipp>=0.5 in /usr/local/lib/python3.6/dist-packages (from importlib-metadata; python_version < \"3.8\"->markdown>=2.6.8->tensorboard~=2.4->tensorflow-gpu) (3.4.0)\n",
            "Installing collected packages: tensorflow-gpu\n",
            "Successfully installed tensorflow-gpu-2.4.1\n"
          ],
          "name": "stdout"
        }
      ]
    },
    {
      "cell_type": "markdown",
      "metadata": {
        "id": "MrBUpcay4Aj_"
      },
      "source": [
        "### Importing Libraries"
      ]
    },
    {
      "cell_type": "code",
      "metadata": {
        "id": "-exxpdZZupFr"
      },
      "source": [
        "import tensorflow as tf\r\n",
        "import matplotlib.pyplot as plt\r\n",
        "\r\n",
        "import cv2\r\n",
        "import numpy as np\r\n",
        "\r\n",
        "import random\r\n",
        "random.seed(0)"
      ],
      "execution_count": 58,
      "outputs": []
    },
    {
      "cell_type": "markdown",
      "metadata": {
        "id": "GRdmduLv4FWd"
      },
      "source": [
        "### Loading Dataset"
      ]
    },
    {
      "cell_type": "code",
      "metadata": {
        "id": "ImatX4Vqun4K"
      },
      "source": [
        "# get the data\r\n",
        "(train_images, train_labels), (test_images, test_labels) = tf.keras.datasets\\\r\n",
        ".fashion_mnist.load_data()\r\n",
        " "
      ],
      "execution_count": 59,
      "outputs": []
    },
    {
      "cell_type": "markdown",
      "metadata": {
        "id": "BLVN7ezl1WDs"
      },
      "source": [
        "The train_images and train_labels arrays are training set - used for model training.\r\n",
        "\r\n",
        "The test_images and test_labels arrays are testing set- used for testing accuracy."
      ]
    },
    {
      "cell_type": "markdown",
      "metadata": {
        "id": "XF6EWMGG4I_W"
      },
      "source": [
        "### Labeling class"
      ]
    },
    {
      "cell_type": "code",
      "metadata": {
        "id": "wABPAQElCRRN"
      },
      "source": [
        "class_names = ['T-shirt/top', 'Trousers', 'Pullover', 'Dress', 'Coat',\r\n",
        "               'Sandal', 'Shirt', 'Sneaker', 'Bag', 'Ankle boot']"
      ],
      "execution_count": 60,
      "outputs": []
    },
    {
      "cell_type": "markdown",
      "metadata": {
        "id": "eW1Uj5ZG2PoI"
      },
      "source": [
        "![class.JPG](data:image/jpeg;base64,/9j/4AAQSkZJRgABAQEAeAB4AAD/4RD4RXhpZgAATU0AKgAAAAgABAE7AAIAAAAPAAAISodpAAQAAAABAAAIWpydAAEAAAAeAAAQ0uocAAcAAAgMAAAAPgAAAAAc6gAAAAgAAAAAAAAAAAAAAAAAAAAAAAAAAAAAAAAAAAAAAAAAAAAAAAAAAAAAAAAAAAAAAAAAAAAAAAAAAAAAAAAAAAAAAAAAAAAAAAAAAAAAAAAAAAAAAAAAAAAAAAAAAAAAAAAAAAAAAAAAAAAAAAAAAAAAAAAAAAAAAAAAAAAAAAAAAAAAAAAAAAAAAAAAAAAAAAAAAAAAAAAAAAAAAAAAAAAAAAAAAAAAAAAAAAAAAAAAAAAAAAAAAAAAAAAAAAAAAAAAAAAAAAAAAAAAAAAAAAAAAAAAAAAAAAAAAAAAAAAAAAAAAAAAAAAAAAAAAAAAAAAAAAAAAAAAAAAAAAAAAAAAAAAAAAAAAAAAAAAAAAAAAAAAAAAAAAAAAAAAAAAAAAAAAAAAAAAAAAAAAAAAAAAAAAAAAAAAAAAAAAAAAAAAAAAAAAAAAAAAAAAAAAAAAAAAAAAAAAAAAAAAAAAAAAAAAAAAAAAAAAAAAAAAAAAAAAAAAAAAAAAAAAAAAAAAAAAAAAAAAAAAAAAAAAAAAAAAAAAAAAAAAAAAAAAAAAAAAAAAAAAAAAAAAAAAAAAAAAAAAAAAAAAAAAAAAAAAAAAAAAAAAAAAAAAAAAAAAAAAAAAAAAAAAAAAAAAAAAAAAAAAAAAAAAAAAAAAAAAAAAAAAAAAAAAAAAAAAAAAAAAAAAAAAAAAAAAAAAAAAAAAAAAAAAAAAAAAAAAAAAAAAAAAAAAAAAAAAAAAAAAAAAAAAAAAAAAAAAAAAAAAAAAAAAAAAAAAAAAAAAAAAAAAAAAAAAAAAAAAAAAAAAAAAAAAAAAAAAAAAAAAAAAAAAAAAAAAAAAAAAAAAAAAAAAAAAAAAAAAAAAAAAAAAAAAAAAAAAAAAAAAAAAAAAAAAAAAAAAAAAAAAAAAAAAAAAAAAAAAAAAAAAAAAAAAAAAAAAAAAAAAAAAAAAAAAAAAAAAAAAAAAAAAAAAAAAAAAAAAAAAAAAAAAAAAAAAAAAAAAAAAAAAAAAAAAAAAAAAAAAAAAAAAAAAAAAAAAAAAAAAAAAAAAAAAAAAAAAAAAAAAAAAAAAAAAAAAAAAAAAAAAAAAAAAAAAAAAAAAAAAAAAAAAAAAAAAAAAAAAAAAAAAAAAAAAAAAAAAAAAAAAAAAAAAAAAAAAAAAAAAAAAAAAAAAAAAAAAAAAAAAAAAAAAAAAAAAAAAAAAAAAAAAAAAAAAAAAAAAAAAAAAAAAAAAAAAAAAAAAAAAAAAAAAAAAAAAAAAAAAAAAAAAAAAAAAAAAAAAAAAAAAAAAAAAAAAAAAAAAAAAAAAAAAAAAAAAAAAAAAAAAAAAAAAAAAAAAAAAAAAAAAAAAAAAAAAAAAAAAAAAAAAAAAAAAAAAAAAAAAAAAAAAAAAAAAAAAAAAAAAAAAAAAAAAAAAAAAAAAAAAAAAAAAAAAAAAAAAAAAAAAAAAAAAAAAAAAAAAAAAAAAAAAAAAAAAAAAAAAAAAAAAAAAAAAAAAAAAAAAAAAAAAAAAAAAAAAAAAAAAAAAAAAAAAAAAAAAAAAAAAAAAAAAAAAAAAAAAAAAAAAAAAAAAAAAAAAAAAAAAAAAAAAAAAAAAAAAAAAAAAAAAAAAAAAAAAAAAAAAAAAAAAAAAAAAAAAAAAAAAAAAAAAAAAAAAAAAAAAAAAAAAAAAAAAAAAAAAAAAAAAAAAAAAAAAAAAAAAAAAAAAAAAAAAAAAAAAAAAAAAAAAAAAAAAAAAAAAAAAAAAAAAAAAAAAAAAAAAAAAAAAAAAAAAAAAAAAAAAAAAAAAAAAAAAAAAAAAAAAAAAAAAAAAAAAAAAAAAAAAAAAAAAAAAAAAAAAAAAAAAAAAAAAAAAAAAAAAAAAAAAAAAAAAAAAAAAAAAAAAAAAAAAAAAAAAAAAAAAAAAAAAAAAAAAAAAAAAAAAAAAAAAAAAAAAAAAAAAAAAAAAAAAAAAAAAAAAAAAAAAAAAAAAAAAAAAAAAAAAAAAAAAAAAAAAAAAAAAAAAAAAAAAAAAAAAAAAAAAAAAAAAAAAAAAAAAAAAAAAAAAAAAAAAAAAAAAAAAAAAAAAAAAAAAAAAAAAAAAAAAAAAAAAAAAAAAAAAAAAAAAAAAAAAAAAAAAAAAAAAAAAAAAAAAAAAAAAAAAAAAAAAAAAAAAAAAAAAAAAAAAAAAAAAAAAAAAAAAAAAAAAAAAAAAAAAAAAAAAAAAAAAAAAAAAAAAAAAAAAAAAAAAAAAAAAAAAAAAAAAAAAAAAAAAAAAAAAAAAAAAAAAAAAAAAAAAAAAAAAAAAAAAAAAAAAAAAAAAAAAAAAAAAAAAAAAAAAAAAAAAAAAAAAAAAAAAAAAAAAAAAAAAAAAAAAAAAAAAAAAAAAAAAAAAAAAAAAAAAAAAAAAAAAAAAAAAAAAAAAAAAAAAAAAAAAAAAAAAAAAAAAAAAAAAAAAAAAAAAAAAAAAAAAAAAAAAAAAAAAAAAAAAAAAAAAAAAAAAAAAAAAAAAAAAAAAAAAAAAAAAAAAAAAAAAAAAAAAAAAAAAAAAAAAAAAAAAAAAAAAAAAAAAAAAAAAAAAAAAAAAAAAAAAAAAAAAAAAAAAAAAAAAAAAAAAAAAAAAAAAAAAAAAAAAAAAAAAAAAAAAAAAAAAAAAAAAAAAAAAAAAAAAAAAAAAAAAAAAAAAAAAAAAAAAAAAAAAAAAAAAAAAAAAAAAAAAAAAAAAAAAAAAAAAAAAAAAAAAAAAAAAAAAAAAAAAAAAAAAEphaW4sIFNoaXZhbmdpAAAABZADAAIAAAAUAAAQqJAEAAIAAAAUAAAQvJKRAAIAAAADMDQAAJKSAAIAAAADMDQAAOocAAcAAAgMAAAInAAAAAAc6gAAAAgAAAAAAAAAAAAAAAAAAAAAAAAAAAAAAAAAAAAAAAAAAAAAAAAAAAAAAAAAAAAAAAAAAAAAAAAAAAAAAAAAAAAAAAAAAAAAAAAAAAAAAAAAAAAAAAAAAAAAAAAAAAAAAAAAAAAAAAAAAAAAAAAAAAAAAAAAAAAAAAAAAAAAAAAAAAAAAAAAAAAAAAAAAAAAAAAAAAAAAAAAAAAAAAAAAAAAAAAAAAAAAAAAAAAAAAAAAAAAAAAAAAAAAAAAAAAAAAAAAAAAAAAAAAAAAAAAAAAAAAAAAAAAAAAAAAAAAAAAAAAAAAAAAAAAAAAAAAAAAAAAAAAAAAAAAAAAAAAAAAAAAAAAAAAAAAAAAAAAAAAAAAAAAAAAAAAAAAAAAAAAAAAAAAAAAAAAAAAAAAAAAAAAAAAAAAAAAAAAAAAAAAAAAAAAAAAAAAAAAAAAAAAAAAAAAAAAAAAAAAAAAAAAAAAAAAAAAAAAAAAAAAAAAAAAAAAAAAAAAAAAAAAAAAAAAAAAAAAAAAAAAAAAAAAAAAAAAAAAAAAAAAAAAAAAAAAAAAAAAAAAAAAAAAAAAAAAAAAAAAAAAAAAAAAAAAAAAAAAAAAAAAAAAAAAAAAAAAAAAAAAAAAAAAAAAAAAAAAAAAAAAAAAAAAAAAAAAAAAAAAAAAAAAAAAAAAAAAAAAAAAAAAAAAAAAAAAAAAAAAAAAAAAAAAAAAAAAAAAAAAAAAAAAAAAAAAAAAAAAAAAAAAAAAAAAAAAAAAAAAAAAAAAAAAAAAAAAAAAAAAAAAAAAAAAAAAAAAAAAAAAAAAAAAAAAAAAAAAAAAAAAAAAAAAAAAAAAAAAAAAAAAAAAAAAAAAAAAAAAAAAAAAAAAAAAAAAAAAAAAAAAAAAAAAAAAAAAAAAAAAAAAAAAAAAAAAAAAAAAAAAAAAAAAAAAAAAAAAAAAAAAAAAAAAAAAAAAAAAAAAAAAAAAAAAAAAAAAAAAAAAAAAAAAAAAAAAAAAAAAAAAAAAAAAAAAAAAAAAAAAAAAAAAAAAAAAAAAAAAAAAAAAAAAAAAAAAAAAAAAAAAAAAAAAAAAAAAAAAAAAAAAAAAAAAAAAAAAAAAAAAAAAAAAAAAAAAAAAAAAAAAAAAAAAAAAAAAAAAAAAAAAAAAAAAAAAAAAAAAAAAAAAAAAAAAAAAAAAAAAAAAAAAAAAAAAAAAAAAAAAAAAAAAAAAAAAAAAAAAAAAAAAAAAAAAAAAAAAAAAAAAAAAAAAAAAAAAAAAAAAAAAAAAAAAAAAAAAAAAAAAAAAAAAAAAAAAAAAAAAAAAAAAAAAAAAAAAAAAAAAAAAAAAAAAAAAAAAAAAAAAAAAAAAAAAAAAAAAAAAAAAAAAAAAAAAAAAAAAAAAAAAAAAAAAAAAAAAAAAAAAAAAAAAAAAAAAAAAAAAAAAAAAAAAAAAAAAAAAAAAAAAAAAAAAAAAAAAAAAAAAAAAAAAAAAAAAAAAAAAAAAAAAAAAAAAAAAAAAAAAAAAAAAAAAAAAAAAAAAAAAAAAAAAAAAAAAAAAAAAAAAAAAAAAAAAAAAAAAAAAAAAAAAAAAAAAAAAAAAAAAAAAAAAAAAAAAAAAAAAAAAAAAAAAAAAAAAAAAAAAAAAAAAAAAAAAAAAAAAAAAAAAAAAAAAAAAAAAAAAAAAAAAAAAAAAAAAAAAAAAAAAAAAAAAAAAAAAAAAAAAAAAAAAAAAAAAAAAAAAAAAAAAAAAAAAAAAAAAAAAAAAAAAAAAAAAAAAAAAAAAAAAAAAAAAAAAAAAAAAAAAAAAAAAAAAAAAAAAAAAAAAAAAAAAAAAAAAAAAAAAAAAAAAAAAAAAAAAAAAAAAAAAAAAAAAAAAAAAAAAAAAAAAAAAAAAAAAAAAAAAAAAAAAAAAAAAAAAAAAAAAAAAAAAAAAAAAAAAAAAAAAAAAAAAAAAAAAAAAAAAAAAAAAAAAAAAAAAAAAAAAAAAAAAAAAAAAAAAAAAAAAAAAAAAAAAAAAAAAAAAAAAAAAAAAAAAAAAAAAAAAAAAAAAAAAAAAAAAAAAAAAAAAAAAAAAAAAAAAAAAAAAAAAAAAAAAAAAAAAAAAAAAAAAAAAAAAAAAAAAAAAAAAAAAAAAAAAAAAAAAAAAAAAAAAAAAAAAAAAAAAAAAAAAAAAAAAAAAAAAAAAAAAAAAAAAAAAAAAAAAAAAAAAAAAAAAAAAAAAAAAAAAAAAAAAAAAAAAAAAAAAAAAAAAAAAAAAAAAAAAAAAAAAAAAAAAAAAAAAAAAAAAAAAAAAAAAAAAAAAAAAAAAAAAAAAAAAAAAAAAAAAAAAAAAAAAAAAAAAAAAAAAAAAAAAAAAAAAAAAAAAAAAAAAAAAAAAAAAAAAAAAAAAAAAAAAAAAAAAAAAAAAAAAAAAAAAAAAAAAAAAAAAAAAAAAAAAAAAAAAAAAAAAAAAAAAAAAAAAAAAAAAAAAAAAAAAAAAAAAAAAAAAAAAAAAAAAAAAAAAAAAAAAAAAAAAAAAAAAAAAAAAAAAAAAAAAAAAAAAAAAAAAAAAAAAAAAAAAAAAAAAAAAAAAAAAAAAAAAAAAAAAAAAAAAAAAAAAAAAAAAAAAAAAAAAAAAAAAAAAAAAAAAAAAAAAAAAAAAAAAAAAAAAAAAAAAAAAAAAAAAAAAAAAAAAAAAAAAAAAAAAAAAAAAAAAAAAAAAAAAAAAAAAAAAAAAAAAAAAAAAAAAAAAAAAAAAAAAAAAAAAAAAAAAAAAAAAAADIwMjE6MDE6MjkgMjE6MTQ6NTkAMjAyMTowMToyOSAyMToxNDo1OQAAAEoAYQBpAG4ALAAgAFMAaABpAHYAYQBuAGcAaQAAAP/hCyFodHRwOi8vbnMuYWRvYmUuY29tL3hhcC8xLjAvADw/eHBhY2tldCBiZWdpbj0n77u/JyBpZD0nVzVNME1wQ2VoaUh6cmVTek5UY3prYzlkJz8+DQo8eDp4bXBtZXRhIHhtbG5zOng9ImFkb2JlOm5zOm1ldGEvIj48cmRmOlJERiB4bWxuczpyZGY9Imh0dHA6Ly93d3cudzMub3JnLzE5OTkvMDIvMjItcmRmLXN5bnRheC1ucyMiPjxyZGY6RGVzY3JpcHRpb24gcmRmOmFib3V0PSJ1dWlkOmZhZjViZGQ1LWJhM2QtMTFkYS1hZDMxLWQzM2Q3NTE4MmYxYiIgeG1sbnM6ZGM9Imh0dHA6Ly9wdXJsLm9yZy9kYy9lbGVtZW50cy8xLjEvIi8+PHJkZjpEZXNjcmlwdGlvbiByZGY6YWJvdXQ9InV1aWQ6ZmFmNWJkZDUtYmEzZC0xMWRhLWFkMzEtZDMzZDc1MTgyZjFiIiB4bWxuczp4bXA9Imh0dHA6Ly9ucy5hZG9iZS5jb20veGFwLzEuMC8iPjx4bXA6Q3JlYXRlRGF0ZT4yMDIxLTAxLTI5VDIxOjE0OjU5LjA0MzwveG1wOkNyZWF0ZURhdGU+PC9yZGY6RGVzY3JpcHRpb24+PHJkZjpEZXNjcmlwdGlvbiByZGY6YWJvdXQ9InV1aWQ6ZmFmNWJkZDUtYmEzZC0xMWRhLWFkMzEtZDMzZDc1MTgyZjFiIiB4bWxuczpkYz0iaHR0cDovL3B1cmwub3JnL2RjL2VsZW1lbnRzLzEuMS8iPjxkYzpjcmVhdG9yPjxyZGY6U2VxIHhtbG5zOnJkZj0iaHR0cDovL3d3dy53My5vcmcvMTk5OS8wMi8yMi1yZGYtc3ludGF4LW5zIyI+PHJkZjpsaT5KYWluLCBTaGl2YW5naTwvcmRmOmxpPjwvcmRmOlNlcT4NCgkJCTwvZGM6Y3JlYXRvcj48L3JkZjpEZXNjcmlwdGlvbj48L3JkZjpSREY+PC94OnhtcG1ldGE+DQogICAgICAgICAgICAgICAgICAgICAgICAgICAgICAgICAgICAgICAgICAgICAgICAgICAgICAgICAgICAgICAgICAgICAgICAgICAgICAgICAgICAgICAgICAgICAgICAgICAgCiAgICAgICAgICAgICAgICAgICAgICAgICAgICAgICAgICAgICAgICAgICAgICAgICAgICAgICAgICAgICAgICAgICAgICAgICAgICAgICAgICAgICAgICAgICAgICAgICAgICAKICAgICAgICAgICAgICAgICAgICAgICAgICAgICAgICAgICAgICAgICAgICAgICAgICAgICAgICAgICAgICAgICAgICAgICAgICAgICAgICAgICAgICAgICAgICAgICAgICAgIAogICAgICAgICAgICAgICAgICAgICAgICAgICAgICAgICAgICAgICAgICAgICAgICAgICAgICAgICAgICAgICAgICAgICAgICAgICAgICAgICAgICAgICAgICAgICAgICAgICAgCiAgICAgICAgICAgICAgICAgICAgICAgICAgICAgICAgICAgICAgICAgICAgICAgICAgICAgICAgICAgICAgICAgICAgICAgICAgICAgICAgICAgICAgICAgICAgICAgICAgICAKICAgICAgICAgICAgICAgICAgICAgICAgICAgICAgICAgICAgICAgICAgICAgICAgICAgICAgICAgICAgICAgICAgICAgICAgICAgICAgICAgICAgICAgICAgICAgICAgICAgIAogICAgICAgICAgICAgICAgICAgICAgICAgICAgICAgICAgICAgICAgICAgICAgICAgICAgICAgICAgICAgICAgICAgICAgICAgICAgICAgICAgICAgICAgICAgICAgICAgICAgCiAgICAgICAgICAgICAgICAgICAgICAgICAgICAgICAgICAgICAgICAgICAgICAgICAgICAgICAgICAgICAgICAgICAgICAgICAgICAgICAgICAgICAgICAgICAgICAgICAgICAKICAgICAgICAgICAgICAgICAgICAgICAgICAgICAgICAgICAgICAgICAgICAgICAgICAgICAgICAgICAgICAgICAgICAgICAgICAgICAgICAgICAgICAgICAgICAgICAgICAgIAogICAgICAgICAgICAgICAgICAgICAgICAgICAgICAgICAgICAgICAgICAgICAgICAgICAgICAgICAgICAgICAgICAgICAgICAgICAgICAgICAgICAgICAgICAgICAgICAgICAgCiAgICAgICAgICAgICAgICAgICAgICAgICAgICAgICAgICAgICAgICAgICAgICAgICAgICAgICAgICAgICAgICAgICAgICAgICAgICAgICAgICAgICAgICAgICAgICAgICAgICAKICAgICAgICAgICAgICAgICAgICAgICAgICAgICAgICAgICAgICAgICAgICAgICAgICAgICAgICAgICAgICAgICAgICAgICAgICAgICAgICAgICAgICAgICAgICAgICAgICAgIAogICAgICAgICAgICAgICAgICAgICAgICAgICAgICAgICAgICAgICAgICAgICAgICAgICAgICAgICAgICAgICAgICAgICAgICAgICAgICAgICAgICAgICAgICAgICAgICAgICAgCiAgICAgICAgICAgICAgICAgICAgICAgICAgICAgICAgICAgICAgICAgICAgICAgICAgICAgICAgICAgICAgICAgICAgICAgICAgICAgICAgICAgICAgICAgICAgICAgICAgICAKICAgICAgICAgICAgICAgICAgICAgICAgICAgICAgICAgICAgICAgICAgICAgICAgICAgICAgICAgICAgICAgICAgICAgICAgICAgICAgICAgICAgICAgICAgICAgICAgICAgIAogICAgICAgICAgICAgICAgICAgICAgICAgICAgICAgICAgICAgICAgICAgICAgICAgICAgICAgICAgICAgICAgICAgICAgICAgICAgICAgICAgICAgICAgICAgICAgICAgICAgCiAgICAgICAgICAgICAgICAgICAgICAgICAgICAgICAgICAgICAgICAgICAgICAgICAgICAgICAgICAgICAgICAgICAgICAgICAgICAgICAgICAgICAgICAgICAgICAgICAgICAKICAgICAgICAgICAgICAgICAgICAgICAgICAgICAgICAgICAgICAgICAgICAgICAgICAgICAgICAgICAgICAgICAgICAgICAgICAgICAgICAgICAgICAgICAgICAgICAgICAgIAogICAgICAgICAgICAgICAgICAgICAgICAgICAgICAgICAgICAgICAgICAgICAgICAgICAgICAgICAgICAgICAgICAgICAgICAgICAgICAgICAgICAgICAgICAgICAgICAgICAgCiAgICAgICAgICAgICAgICAgICAgICAgICAgICAgICAgICAgICAgICAgICAgICAgICAgICAgICAgICAgICAgICAgICAgICAgICAgICAgICAgICAgICAgICAgICAgICAgICAgICAKICAgICAgICAgICAgICAgICAgICAgICAgICAgIDw/eHBhY2tldCBlbmQ9J3cnPz7/2wBDAAcFBQYFBAcGBQYIBwcIChELCgkJChUPEAwRGBUaGRgVGBcbHichGx0lHRcYIi4iJSgpKywrGiAvMy8qMicqKyr/2wBDAQcICAoJChQLCxQqHBgcKioqKioqKioqKioqKioqKioqKioqKioqKioqKioqKioqKioqKioqKioqKioqKioqKir/wAARCAD9APgDASIAAhEBAxEB/8QAHwAAAQUBAQEBAQEAAAAAAAAAAAECAwQFBgcICQoL/8QAtRAAAgEDAwIEAwUFBAQAAAF9AQIDAAQRBRIhMUEGE1FhByJxFDKBkaEII0KxwRVS0fAkM2JyggkKFhcYGRolJicoKSo0NTY3ODk6Q0RFRkdISUpTVFVWV1hZWmNkZWZnaGlqc3R1dnd4eXqDhIWGh4iJipKTlJWWl5iZmqKjpKWmp6ipqrKztLW2t7i5usLDxMXGx8jJytLT1NXW19jZ2uHi4+Tl5ufo6erx8vP09fb3+Pn6/8QAHwEAAwEBAQEBAQEBAQAAAAAAAAECAwQFBgcICQoL/8QAtREAAgECBAQDBAcFBAQAAQJ3AAECAxEEBSExBhJBUQdhcRMiMoEIFEKRobHBCSMzUvAVYnLRChYkNOEl8RcYGRomJygpKjU2Nzg5OkNERUZHSElKU1RVVldYWVpjZGVmZ2hpanN0dXZ3eHl6goOEhYaHiImKkpOUlZaXmJmaoqOkpaanqKmqsrO0tba3uLm6wsPExcbHyMnK0tPU1dbX2Nna4uPk5ebn6Onq8vP09fb3+Pn6/9oADAMBAAIRAxEAPwD6RooooAKKKKACiiigAoooPSgCMy+1Hm+1ct4+1+78M+D7nVNPCGeJ0C7xkcsAf50nijxpF4V061ubiymuzOu4iIgbQFyTzQB1Xm+1Hm+1eXW/xUMevXcs9ldXGiuts0VwijFv5o/i79ah1b4x2lzZapbaNDNBdxRSm0uZACkjRnDcdR+PWgD1fzfajzfaqGlzvdaPZzzHMksCO5A6kqCatUAS+aPSjzfaoq8/v/EXirVPFusaf4YksYIdFWPel0mTcM3JG7+EY70Aei+b7Ueb7V5jF8SLvSjrL6vaSXht77yIooCo8tRGGb5j171dtvivpt5qdha2mn3ki3kUcvmEBdgfpweuMc4oA9B832o832rkPDHj218Uaxc2NrY3EIg3YlkxhtpweOo/GuqoAlEvtUg5qsOtWR0FABRRRQAUUUUAFFFFABRRRQAUUUUAFFFFABRRRQAUUUUAFB6UUUAYXiXw7a+KdBuNJv3kjgmxlojhgQcjFczf/Cyx1OG3XUdZ1O5kt9wjleRSyqwwV6YxivQSi0CNfSgDz5fhNowli/02+8hBCJLfzQElEX3NwpU+EuhRvfiKe6SC8D5gDLtjLnLEHGf1r0DYvpR5a+lAFO1t0tLOG3izshRY1z1wBgVLU/lr6UnlqKAIa5LW/h3putaxNqP2y9s3ukVLyO1l2LcqvQN/9auzEanpS+WtAHA6j8KdD1Bnbz7uB2uDODG4+UlNhAz2xTU+E+io+nA3V40OnhBHE0gIO05BzjI69q9A8taPLWgDkND8BadoXiKbWYbi5nuZEZF81gQik5I4HP411FT+WvpR5a+lAEA61ZHQU3y1p1ABRRRQAUUUUAFFFFABRRRQAUUUUAFFFFABRRRQAUUUUAFFFFAHM+Ory4tdCijtZnt/tN1FA8qHDIrNg4PaneDnlSHULKS7ku47O7aKKSVtzbcA4J74rcvrC11Oze1voVmhf7yNTdO0yz0m0Ftp8CwxZLYHcnqSe5oAtUUUUAFY3iqy+2eH7ki5uLZoY2kV7eTa2QK2aZNEk8LxTKGjdSrKe4NAHBWmq3ugeDkewhvdQu5Io5DLdNuUlhzg98egqhL4s1u4NvqdjJZv5VnM86bm2NsYcY6hvr0r0K50awu9LXTri2VrVQAsfI246Yqvb+GdHtbbyILCJItjJtx1DHLZ9c0AcnY+KdTvNWNvp0UKvc3aKxnkLKimIOcAUyx17WrzQXtbi7je/u9Ue1heEY2Rq3J/AV2kGhabbXCzwWcaSK24MB0ONufy4qK38NaVaap/aFtaiO4yzZUnG5vvHHqaBnI2nibX0upNOElnNcz38sFvJJkLGiLnB9TUEfxD1i8jnmtbSyjSyt1nuFkkP7z5yrBT+GQa7O48K6LdNM09hGxmk81zkgl8Y3cHg49Kzh4A0dtce+mt0eEQJDFbYIWMKc/jz60AdJBKJ7aOUDAkQMAe2RmpKAAAABgDoKKBBRRRQAUUUUAFFFFABRRRQAUUUUAFFFFABRRRQAUUUUAFFFB6UAQGQjJJwBQJdyhkbcD0INZuu2MWo6JdW9wHKNGxIRipOAe4qj4HDL4F0lWDArAAd3XqfWmB0G9vWjzG9abRSAd5jetMluVhUNNKsYJwC7Afzpay/Ellb33h+8W6hWUJC7KGHQ46igDTiuEnUmGZJAOCVYHH5U/c3rXmCSahpUOkw6EWt4/7Ke7mijjz58ijjJNRp4t1a1w0eqG+gMVvNcTGHAgZnwy/TH5YoA9T3n1o3t615VqfjHVJPtMtlqYW1ivZ1QxrhnjVRjaSMHBzx3pV8VeIrrWiYrpYo4zGFhlATzUMeSdvXJNAHqu8+tJvb1rA8GSXs/he1utUupLq5uF8xmdQu3JPAFbpoAdvb1qcdBVarA6CgBaKKKACiiigAooooAKKKKACiiigAooooAKKKKACiiigAooooArlTzxSKm1QqrgDoAMYo1DUbTSrNrrUJ0ghXq7Hv6U3TtTs9WtBc6fOs0WSpK9iOoPoaAH7T6UbT6VYooAr7T6UFcqQVyDwQRViqmpapZ6Ra/aNRnWCLcEDN3J6CgBREqkYRQQMD5eg9KYLSBUdBbxhX+8oQYb6+tLp2q2OrQtLp1wk6I21tp5U+hHaobnxBptpfNaT3AWdCgZcdN5wv50AP+w23lhPssOwHIXyxgH1pxtoWkEjQRmQDAcoMgfWrtHHemBWVdqhVXAHQAUYPpVmikBXAOelWB0oooAKKKKACiiigAooooAKKKKACiiigAooooAKKKKACiiigAooooAxPF1x9j8Py3KaY2pzRkNDbqm7L54OPbrVTwJAsWhyMyTC6mnaa5aWIx7pG67R6dq6Qsvc0Bl9aAHUUm9fWjevrQAtcx470++1LSbOLTMiZb6F9+zeEAPJI9K6bevrRvX1oA8+v9GvPDFympK11fyXc7tdtbRYwdhC4QdqwrLSNcnSOeazuRO8dod0q8gh2Jz9MjNeu7lPU0bl9aYHk9lpWtXbCG3TU7a9S3mN/NK5CSSg5j2888jt2qvqVh4lu7KxvtUS9jS986S4hh3OYJCMRjaD2xn05r2DcvrRuX1pAcZ4J0e8t9X1K91RruSXEUcLzsQGUJyQvQHPWu1pu9fWjevrQA6ik3j1paACiiigAooooAKKKKACiiigAooooAKKKKACiiigAooooAKKKD0oAydX1SPSLFrqWGaf5gqxQJuZiTwAKj0XWoNbsnngSSJo5WikilGGRx1BpddGoHS5BpUMU82RmOViu5e4B7HFZngrRrrRNGlgu41h8y5eZIQ+8xq3Yt3NAHR0UUUAFZmva3FoNglzNBNP5kqxJHCMszMcAVp1g+L9Pvr/AEu2/suFJp7e7jn8t32hgp55oAksfFmlXVq8txMLGSOXyZIbshHR/wC7j3q8us6a8s8aX9uXt13SqJBlB6n0rjv+EP1HUdbh1fUordZJL4XEsIO4RIqFV+rc5rIs/h1qEP2xLm2+0MEmVJGutqzB2zjAGQfr0oA9FOv6SLFLw6jai3dtqy+aNpPpmryurorowZWGQwOQRXl8vgvW5NEjVrOIzx3DvCvmqHjUrgFuNre/HSvRdJgntdGtILvy/PihVZPKGFyBzj2oAuUUUUAA61ZHQVWHWrI6CgAooooAKKKKACiiigAooooAKKKKACiiigAooooAKKKKACiiigCMxE9DSeUfWotS1CDStOmvbttsUK7mPr7D3rO8Ja/L4l0IahPZtZOZXTyWOSuDgZ96ANbyjR5RqWigCLyjR5R9alrH8Sa3JoljC1rbfaru6mW3t4S20M7ep7CgDT8o+tHlN7Vzsfi2XTYHXxRZmzuRKI4lt8yC4yM5QdeO9SzeOdDgt7a4a4dobhdwkWMlUGcfN6c8UAbvlt60eU1ZmheJLfX59QjtoZY/sNwYGaRcBzjORWxQBD5Ro8o1NRQBEIjnrUtFFABRRRQAUUUUAFFFFABRRRQAUUUUAFFJmjNAC0UmaM0ALRSZozQAtFJmjNAFDWtEs9fsRaagHMQkWQBHKnIOR0qp4W8Ojw1p01qLmS4824ebc5zjcc4rW872pPP9qAJqKh8/2pfO9qAJayPEWiNrdjCsFwbW6tplngmAztdfUdxWl53tSecfSgDlpfCmrz3UOpTa0r6jBMXizF+6RCuCoX9c1jX3wtuLq0it11VGXyyJfNizhy+8ugHQnpXoXnH0pfO9qAMrQdDm0a71F2uVmhu5hMq7MFDtAPPfpW1UPn+1Hn+1AE1FQ+efSjzz6UATUVCJvapc0ALRSZozQAtFJmjNAC0UmaM0ALRSZozQAtFJmigBmaM1HmjNAEmaM1HmjNAEmaM1HmjNAEmaQnimZoJoAxPFF7f2Hh+5n0mF5rtQBGsaB25PUA9ar+FNWbVNOlM9xLNcQTGOVJoBE8bY6FRxWhqmnxapYyWs0ksasQQ8TlWUg5BBqDR9Hg0aGZYpJJpbiQyzTStlpGxjJoA1QaN1R7s0ZoAk3VheLtQ1PT9FE2kRs0nmqsrpGHeOP+JlX+Ij0rZzVLVdLi1e1SKaWaFo3EkckLlWRh0NAHLQeO5NP0YXF0U1UeY4WZMQsFUZw6HkP7AVaHxDha5Bj0ydrMNCr3O8YUyjI+Xrx3pZ/h9pc8R3XF2J3Z2luBJ88m8YbP4Vch8G6VDaNbr5pjZ4nOX7xjC0AZD+ObuXWrKSKwli0ySO4fc7Lmfyxx/u806Px1LqdzZR2kJtWGox286khwyOpPBq03w+0qSR/Nnu3gKSJHAZTtiEn3tv41Np/gjTrCZZRNczSLOk+6R8/Mi7V/DFNAdPuozTM0ZpASA81YB4FVAeasA8CgCTNGajzRmgCTNGajzRmgCTNGajzRmgCTNGajzRmgCTNFR5ooAZmjNMzRmgB+aM0zNGaAH5ozTM0ZoAfmjNMzRmgBxVT1FJsX0rnPHOo3uneF5X0uRY7mSRIldm27dxxnPb60vg7UHudMms7hHW4sJjBKWmMu49c7j160AdFsX0o2rSZozQAu1aNq0ma53xqbx9Fij0+5WGV50Bj87ymnXPMav2JoA6PYtGxa8ottV1Mahapo91Ks1t9pEsGpMZPJKrnZlT83sa0YfFmqz6r5dhHAlxdtaqxmdmRN6ktgZ9qdgPRti+lG1a5nwhqGp3s2spq1xFMbe+aKLy1xtUAcfrXS5pALtX0o2LSZozQAuxadmmZozQA/NGaZmjNAD80ZpmaM0APzRmmZozQA/NGaZmjNAD80UzNFADM0ZpmaM0APzRmmZozQA/NGaZmjNAD80ZpmaM0AR3lpbahaPbXsKTwSDDI4yDTNP06z0q1Ftp9ulvCDnagxz60y4u4raMyXMyQpn70jhR+ZpILyG6j3208cyZxujcMP0oAvZozVXzD60bz60AWs1Wv9PtNUtTbahbpcQk52OM8+tG8+tMluUgjaSaVY0UZZnYAD8TQBDa+H9JskRbWwhjCBguF/vfe/Onx6JpkUyzR2UKyKVKsF5G0YX8qdFdJPCssEqyRt0ZGBB/EU/efWgBbbT7S0ubi4toEiluW3TMowXPqas5qnJOsMZeWQIo6sxwBTt59aALWaM1V3n1o3n1oAtZozVUOfWpweKAH5ozTM0ZoAfmjNMzRmgB+aM0zNGaAH5ozTM0ZoAfmimZooAZmjNMzRmgB+aM0zNGaAH5ozTM0ZoAfmjNMzRmgDL11rNNGuZtRgW4ghQuY2XdkjpxWb4L0n+yvD6Folhmu3NzKijAUt0XHsMVvsu4EMuR7ijB9KAHZozTOfSjn0oAfmuZ8dRW8+hwrdTmBftKEO0RkjyDwJAP4a6Pn0oZQ6lXXcD1BGc0AeX6bdXlwotdMmk0uLfcPI9jnypmRchk3dFz2pR4k8R3Gt26/a/IEawbEdtonDD5zs2ncfxGK9NWJFACxgAdAF6UGFNysYlyvQ7RkUAeSXHiXVL5tSgjnmu0lt5JFgmb7jrIAowANn05qe58TeIjZWcM91La3Mjym6JbylgkUfJGG2n5e/vXqYgjBJEKgnqQo5pWhjcEPErZOTlQc0Ac14Vm1S+1G5uNTv5HEUcaiBBiIkrksOM11WaYF252rjPoKOfSgB4NTg8CqwzmpgeBQBJmjNMzRmgB+aM0zNGaAH5ozTM0ZoAfmjNMzRmgB+aKZmigCPNGaZmjNAD80ZpmaM0APzRmmZozQA/NGaZmjNAEV/qFtplm91fTLFCn3mNM03VLTVrMXNhMJYiSpIBBBHUEHkGsXxza3V94ZaGyikkfzo2bysb1UNksue4qPwPaXFnpd0LiKZBJdvIj3AAkkU45YCgDqc0ZpmaM0APzVTUtVtNItftF/MIYiwQMQTknoMCrGa5rx1a3N3otutok7sl5E7fZwC4UHkjNAG7p+q2eqWxnsJ1mjVirEcbSOxB6Vb3DOM15LNpmsJpkwSwu5IZ72WVZZVDTEbOCyAgdeAe1UL5ry1s4/wC2o7tr9oLZbciYAxHdhgVzkH880Ae05ozUUZIjGeuKdmgB+aM0zNGaAH5ozTM0ZoAfmjNMzRmgB+aM0zNGaAH5ozTM0ZoAfmjNMzRmgB+aKZmigBmaM0zNGaAH5ozTM0ZoAfmjNMzRmgB+aM0zNGaAHbx60bx61kaxq8OjWJuZkklLOI444xlnYnAApukaxFq9m0scckLxyGKWKUYZGHUUAbO8etG8etVc0ZoAtbx60bx61VzUF7exafYzXdySIoULsR6CgDR3j1qpPp2n3N5HdXFrDJcR/ckZAWX8ay7TxRpV1ottqbXSW9vcjKeeQjZ9CPX2pY/EdjJqU1r5qhY4kkExcbH39APegDe3j1o3j1rn7LxNp1zYw3E08dr58jJGkzgElWxS6l4jsNJ1S1s7+VYPtKM6yyOFUbe1AG/vHrRvHrWVJq+nxXEUEl7AsswBjQyDLg9MUyXXdLga4SS/gD26F5UDgsoHXigDY3j1pc1madqNtqlhDe2Mglt5l3I47itAHigB+aM0zNGaAH5ozTM0ZoAfmjNMzRmgB+aM0zNGaAH5opmaKAGZozTM0ZoAfmjNMzRmgB+aM0zNGaAH5oJ4pmaM0AZWu6dHqulSwSQmVgQ8aiQoQ45BDDpVTwro0+iaXJHeS+ZcXE7TyfMW2lu2TycetbeOTzSbfegBc0ZpMUYoAXNY3ifSrrXNNjsLWf7PHJMjTyA/MEBzge5rYxRigDi7fwhfW2oFJpo7uzWeSeJpsb1LpgjGMdazrXwLqtrq1lqSSwu9nDHGLdn/AHcmGOcj1APBr0XHvRj3oA86bwRqStEZEjuUeJ4ZIhcFNmZN2c454rc8Q6Jf3F9YXFjaWt0lvayW7RzvjBZcAg4PSuqxjvSY96AOCTwfqdvD9hWO0uFmWHdduxDQlDkgDv7VJD4R1DzktZYrUQwSTyC7zl5vMBAUjt15ruQtG33oAzvDdpPp3h2ys7uNI5YIxGwRsg47itkHioAKlBoAfmjNMzRmgB+aM0zNGaAH5ozTM0ZoAfmjNMzRmgB+aKZmigD/2Q==)"
      ]
    },
    {
      "cell_type": "markdown",
      "metadata": {
        "id": "iAUzDGG031tu"
      },
      "source": [
        "Each image is mapped to single label. "
      ]
    },
    {
      "cell_type": "markdown",
      "metadata": {
        "id": "9Xo3HvmgCg07"
      },
      "source": [
        "### Explore the data"
      ]
    },
    {
      "cell_type": "markdown",
      "metadata": {
        "id": "dXR7YH3iCm3l"
      },
      "source": [
        "Lets explore the data before training the model. The following shows there are 60000 images in the training set , with each image represented as 28x28 Numpy arrays with pixel value ranging from 0 to 255."
      ]
    },
    {
      "cell_type": "code",
      "metadata": {
        "colab": {
          "base_uri": "https://localhost:8080/"
        },
        "id": "snFCeJjuCfxE",
        "outputId": "15478b31-850b-41e0-985a-5c7c1621396d"
      },
      "source": [
        "train_images.shape"
      ],
      "execution_count": 61,
      "outputs": [
        {
          "output_type": "execute_result",
          "data": {
            "text/plain": [
              "(60000, 28, 28)"
            ]
          },
          "metadata": {
            "tags": []
          },
          "execution_count": 61
        }
      ]
    },
    {
      "cell_type": "markdown",
      "metadata": {
        "id": "VMRKcDOnC8j8"
      },
      "source": [
        "Likewise there are 60000 labels in training set"
      ]
    },
    {
      "cell_type": "code",
      "metadata": {
        "colab": {
          "base_uri": "https://localhost:8080/"
        },
        "id": "05urmgQhC6II",
        "outputId": "fddfd56d-2272-4d7e-d728-9f2430f9e21b"
      },
      "source": [
        "len(train_labels)"
      ],
      "execution_count": 62,
      "outputs": [
        {
          "output_type": "execute_result",
          "data": {
            "text/plain": [
              "60000"
            ]
          },
          "metadata": {
            "tags": []
          },
          "execution_count": 62
        }
      ]
    },
    {
      "cell_type": "code",
      "metadata": {
        "colab": {
          "base_uri": "https://localhost:8080/"
        },
        "id": "BSkefKwaC6K4",
        "outputId": "77e92e6c-f013-4d28-a9ea-3407dd49e7f1"
      },
      "source": [
        "\r\n",
        "\r\n",
        "train_labels"
      ],
      "execution_count": 63,
      "outputs": [
        {
          "output_type": "execute_result",
          "data": {
            "text/plain": [
              "array([9, 0, 0, ..., 3, 0, 5], dtype=uint8)"
            ]
          },
          "metadata": {
            "tags": []
          },
          "execution_count": 63
        }
      ]
    },
    {
      "cell_type": "markdown",
      "metadata": {
        "id": "49pr7xNQDLTq"
      },
      "source": [
        "Each label is an integer between 0 and 9"
      ]
    },
    {
      "cell_type": "markdown",
      "metadata": {
        "id": "SkCRGhirDWSF"
      },
      "source": [
        "Lets check Test data"
      ]
    },
    {
      "cell_type": "code",
      "metadata": {
        "colab": {
          "base_uri": "https://localhost:8080/"
        },
        "id": "gZxLHrUDC6OU",
        "outputId": "f5944306-f2fc-4a24-a326-b118141ebdc8"
      },
      "source": [
        "test_images.shape"
      ],
      "execution_count": 23,
      "outputs": [
        {
          "output_type": "execute_result",
          "data": {
            "text/plain": [
              "(10000, 28, 28)"
            ]
          },
          "metadata": {
            "tags": []
          },
          "execution_count": 23
        }
      ]
    },
    {
      "cell_type": "code",
      "metadata": {
        "colab": {
          "base_uri": "https://localhost:8080/"
        },
        "id": "eESYzVUfDYtb",
        "outputId": "247e101e-3704-486a-89ea-9b8d2bdf545c"
      },
      "source": [
        "len(test_images)"
      ],
      "execution_count": 24,
      "outputs": [
        {
          "output_type": "execute_result",
          "data": {
            "text/plain": [
              "10000"
            ]
          },
          "metadata": {
            "tags": []
          },
          "execution_count": 24
        }
      ]
    },
    {
      "cell_type": "markdown",
      "metadata": {
        "id": "QUeoNeLyDlU8"
      },
      "source": [
        "### Preprocess the Data"
      ]
    },
    {
      "cell_type": "code",
      "metadata": {
        "colab": {
          "base_uri": "https://localhost:8080/",
          "height": 589
        },
        "id": "KyQEeCqevHei",
        "outputId": "46d907d5-5893-4d27-d07e-b713329db2bc"
      },
      "source": [
        "# show 25 images\r\n",
        "plt.figure(figsize=(10,10))\r\n",
        "for i in range(25):\r\n",
        "    plt.subplot(5,5,i+1)\r\n",
        "    plt.xticks([])\r\n",
        "    plt.yticks([])\r\n",
        "    plt.imshow(train_images[i], cmap=plt.cm.binary)\r\n",
        "    plt.xlabel(class_names[train_labels[i]])\r\n",
        "plt.show()"
      ],
      "execution_count": 64,
      "outputs": [
        {
          "output_type": "display_data",
          "data": {
            "image/png": "[encoded data removed]",
            "text/plain": [
              "<Figure size 720x720 with 25 Axes>"
            ]
          },
          "metadata": {
            "tags": []
          }
        }
      ]
    },
    {
      "cell_type": "code",
      "metadata": {
        "colab": {
          "base_uri": "https://localhost:8080/",
          "height": 265
        },
        "id": "-Nlx7Kf_Dw2u",
        "outputId": "551b8293-ea15-4c25-b031-0fb427c26d8b"
      },
      "source": [
        "plt.figure()\r\n",
        "plt.imshow(train_images[0])\r\n",
        "plt.colorbar()\r\n",
        "plt.gca().grid(False)"
      ],
      "execution_count": 65,
      "outputs": [
        {
          "output_type": "display_data",
          "data": {
            "image/png": "[encoded data removed]",
            "text/plain": [
              "<Figure size 432x288 with 2 Axes>"
            ]
          },
          "metadata": {
            "tags": [],
            "needs_background": "light"
          }
        }
      ]
    },
    {
      "cell_type": "markdown",
      "metadata": {
        "id": "akkgfxQT4WRG"
      },
      "source": [
        "Here we can see this is shoe image and each pixel has values between 0 to 255."
      ]
    },
    {
      "cell_type": "markdown",
      "metadata": {
        "id": "D4LueH-WEEX9"
      },
      "source": [
        "### Scaling the dataset"
      ]
    },
    {
      "cell_type": "markdown",
      "metadata": {
        "id": "UVLDivdGEJJx"
      },
      "source": [
        "We can scale values before feeding it to neural networl model. Here we are casting values of training and test dataset from an integer to a float and dividing by 255."
      ]
    },
    {
      "cell_type": "code",
      "metadata": {
        "id": "xNaaCbq5Edr2"
      },
      "source": [
        "train_images = train_images/255.0\r\n",
        "test_images = test_images/255.0"
      ],
      "execution_count": 66,
      "outputs": []
    },
    {
      "cell_type": "markdown",
      "metadata": {
        "id": "EfWy_0KkExkM"
      },
      "source": [
        "Again checking images after scaling."
      ]
    },
    {
      "cell_type": "code",
      "metadata": {
        "colab": {
          "base_uri": "https://localhost:8080/",
          "height": 589
        },
        "id": "hsjYxYCqEuI4",
        "outputId": "b5f14639-aa24-4b04-bc0c-265815843832"
      },
      "source": [
        "# show 25 images\r\n",
        "plt.figure(figsize=(10,10))\r\n",
        "for i in range(25):\r\n",
        "    plt.subplot(5,5,i+1)\r\n",
        "    plt.xticks([])\r\n",
        "    plt.yticks([])\r\n",
        "    plt.imshow(train_images[i], cmap=plt.cm.binary)\r\n",
        "    plt.xlabel(class_names[train_labels[i]])\r\n",
        "plt.show()"
      ],
      "execution_count": 67,
      "outputs": [
        {
          "output_type": "display_data",
          "data": {
            "image/png": "[encoded data removed]",
            "text/plain": [
              "<Figure size 720x720 with 25 Axes>"
            ]
          },
          "metadata": {
            "tags": []
          }
        }
      ]
    },
    {
      "cell_type": "markdown",
      "metadata": {
        "id": "HuVACspQE7k-"
      },
      "source": [
        "### Building the model"
      ]
    },
    {
      "cell_type": "code",
      "metadata": {
        "id": "LIH97LlEFNdP"
      },
      "source": [
        "model = tf.keras.models.Sequential([\r\n",
        "        tf.keras.layers.Flatten(input_shape=(28,28)),\r\n",
        "        tf.keras.layers.Dense(128, activation='relu'),\r\n",
        "        tf.keras.layers.Dense(10, activation='softmax')\r\n",
        "        ])"
      ],
      "execution_count": 68,
      "outputs": []
    },
    {
      "cell_type": "markdown",
      "metadata": {
        "id": "fsackqLC5teC"
      },
      "source": [
        "The first layer in this neural network is \"Flatten\" which transforms the format of images from a 2D array (28 x 28 pixels) to 1D array of 28*28= 784 pixels. This layer has no parameters to learn, it only reformat the data.\r\n",
        "\r\n",
        "The second layer is \"Dense\" layer , this is densly connected or fully connected neural layers. First Dense layer has 128 neurons or nodes. And second Dense layer has 10 neurons with activation function as \"Softmax\" which returns probability scores that sum to 1. Each node contains a score that indicates the probability of current image belongs to one of 10 digits."
      ]
    },
    {
      "cell_type": "markdown",
      "metadata": {
        "id": "H099yd3w2tBc"
      },
      "source": [
        "### Compiling the model"
      ]
    },
    {
      "cell_type": "code",
      "metadata": {
        "id": "2AeThkzBFgpY"
      },
      "source": [
        "model.compile(optimizer='adam', loss=\"sparse_categorical_crossentropy\", \r\n",
        "              metrics=['accuracy'])"
      ],
      "execution_count": 69,
      "outputs": []
    },
    {
      "cell_type": "markdown",
      "metadata": {
        "id": "YcjvUyoF74v5"
      },
      "source": [
        "Before training a model, we compile it with three parameters : Optimizer, Loss, Metrics.\r\n",
        "\r\n",
        "\r\n",
        "\r\n",
        "*   Optimizer : It tells how model is updated based on the data it sees and its \r\n",
        "    loss functions.\r\n",
        "*   Loss function : Use to measure how accurate model is during training. Our \r\n",
        "    aim is to minimize the loss.\r\n",
        "*   Metrics : Used to monitor the training and test steps with the help of     accuracy measure.\r\n",
        "\r\n",
        "\r\n",
        "\r\n",
        "\r\n"
      ]
    },
    {
      "cell_type": "markdown",
      "metadata": {
        "id": "D-EaeLUmGejA"
      },
      "source": [
        "### Training the model"
      ]
    },
    {
      "cell_type": "code",
      "metadata": {
        "colab": {
          "base_uri": "https://localhost:8080/"
        },
        "id": "W4MhCr01FgsX",
        "outputId": "5a0bddb8-fc4b-4083-c7cd-669376707aa8"
      },
      "source": [
        "r= model.fit(train_images,train_labels,validation_data=(test_images,test_labels),epochs=5)"
      ],
      "execution_count": 85,
      "outputs": [
        {
          "output_type": "stream",
          "text": [
            "Epoch 1/5\n",
            "1875/1875 [==============================] - 3s 2ms/step - loss: 0.2815 - accuracy: 0.8959 - val_loss: 0.3649 - val_accuracy: 0.8664\n",
            "Epoch 2/5\n",
            "1875/1875 [==============================] - 3s 2ms/step - loss: 0.2684 - accuracy: 0.9019 - val_loss: 0.3355 - val_accuracy: 0.8770\n",
            "Epoch 3/5\n",
            "1875/1875 [==============================] - 3s 2ms/step - loss: 0.2569 - accuracy: 0.9047 - val_loss: 0.3557 - val_accuracy: 0.8794\n",
            "Epoch 4/5\n",
            "1875/1875 [==============================] - 3s 2ms/step - loss: 0.2467 - accuracy: 0.9078 - val_loss: 0.3639 - val_accuracy: 0.8777\n",
            "Epoch 5/5\n",
            "1875/1875 [==============================] - 3s 2ms/step - loss: 0.2370 - accuracy: 0.9101 - val_loss: 0.3381 - val_accuracy: 0.8831\n"
          ],
          "name": "stdout"
        }
      ]
    },
    {
      "cell_type": "markdown",
      "metadata": {
        "id": "Dwo6FvAMGg4L"
      },
      "source": [
        "### Evaluate accuracy on Testdata"
      ]
    },
    {
      "cell_type": "code",
      "metadata": {
        "colab": {
          "base_uri": "https://localhost:8080/"
        },
        "id": "ZEHozK8kFgwE",
        "outputId": "fc6862d0-ed8f-4ea9-e900-f9281077a8c0"
      },
      "source": [
        "test_loss, test_acc = model.evaluate(test_images, test_labels, verbose=2)\r\n",
        "print(\"Test accuracy: \", test_acc)"
      ],
      "execution_count": 86,
      "outputs": [
        {
          "output_type": "stream",
          "text": [
            "313/313 - 0s - loss: 0.3381 - accuracy: 0.8831\n",
            "Test accuracy:  0.8830999732017517\n"
          ],
          "name": "stdout"
        }
      ]
    },
    {
      "cell_type": "markdown",
      "metadata": {
        "id": "ubQaFZaa9AzV"
      },
      "source": [
        "It turns out that accuracy of test data is little less than accuracy of train data."
      ]
    },
    {
      "cell_type": "markdown",
      "metadata": {
        "id": "Pp3_gyg89Uwp"
      },
      "source": [
        "### Saving the model in .h5 file"
      ]
    },
    {
      "cell_type": "code",
      "metadata": {
        "id": "gduy4HhC9UEn"
      },
      "source": [
        "model.save(\"fashion_mnist_model.h5\")"
      ],
      "execution_count": 87,
      "outputs": []
    },
    {
      "cell_type": "markdown",
      "metadata": {
        "id": "oGxAzFAwGT_3"
      },
      "source": [
        "### Plotting Graph"
      ]
    },
    {
      "cell_type": "code",
      "metadata": {
        "colab": {
          "base_uri": "https://localhost:8080/",
          "height": 531
        },
        "id": "EQneEEkUGYMn",
        "outputId": "20ae181b-59ae-42c5-92f6-8866975f8ab0"
      },
      "source": [
        "# plot the loss\r\n",
        "plt.plot(r.history['loss'], label='train loss')\r\n",
        "plt.plot(r.history['val_loss'], label='val loss')\r\n",
        "plt.legend()\r\n",
        "plt.show()\r\n",
        "plt.savefig('LossVal_loss')\r\n",
        "\r\n",
        "# plot the accuracy\r\n",
        "plt.plot(r.history['accuracy'], label='train acc')\r\n",
        "plt.plot(r.history['val_accuracy'], label='test acc')\r\n",
        "plt.legend()\r\n",
        "plt.show()\r\n",
        "plt.savefig('AccVal_acc')"
      ],
      "execution_count": 88,
      "outputs": [
        {
          "output_type": "display_data",
          "data": {
            "image/png": "[encoded data removed]",
            "text/plain": [
              "<Figure size 432x288 with 1 Axes>"
            ]
          },
          "metadata": {
            "tags": [],
            "needs_background": "light"
          }
        },
        {
          "output_type": "display_data",
          "data": {
            "image/png": "[encoded data removed]",
            "text/plain": [
              "<Figure size 432x288 with 1 Axes>"
            ]
          },
          "metadata": {
            "tags": [],
            "needs_background": "light"
          }
        },
        {
          "output_type": "display_data",
          "data": {
            "text/plain": [
              "<Figure size 432x288 with 0 Axes>"
            ]
          },
          "metadata": {
            "tags": []
          }
        }
      ]
    },
    {
      "cell_type": "markdown",
      "metadata": {
        "id": "19IPe8FIGljv"
      },
      "source": [
        "### Make predictions"
      ]
    },
    {
      "cell_type": "markdown",
      "metadata": {
        "id": "UXKrudI59OSH"
      },
      "source": [
        "Now we can make prediction for few images."
      ]
    },
    {
      "cell_type": "code",
      "metadata": {
        "id": "CCT_nqPQGqNP"
      },
      "source": [
        "pred= model.predict(test_images)"
      ],
      "execution_count": 89,
      "outputs": []
    },
    {
      "cell_type": "code",
      "metadata": {
        "colab": {
          "base_uri": "https://localhost:8080/"
        },
        "id": "O44L2D3VGqTl",
        "outputId": "ed091a68-5990-4d4f-b36f-cfe716d2b28e"
      },
      "source": [
        "pred[0]"
      ],
      "execution_count": 90,
      "outputs": [
        {
          "output_type": "execute_result",
          "data": {
            "text/plain": [
              "array([1.5394575e-06, 1.9718428e-08, 3.1315714e-08, 2.3430285e-08,\n",
              "       1.1623671e-06, 2.1679823e-03, 4.8579718e-06, 5.0357007e-03,\n",
              "       2.5105383e-06, 9.9278623e-01], dtype=float32)"
            ]
          },
          "metadata": {
            "tags": []
          },
          "execution_count": 90
        }
      ]
    },
    {
      "cell_type": "markdown",
      "metadata": {
        "id": "-Ef--F_8-h7g"
      },
      "source": [
        "Pred is a array of 10 numbers, which describes the probability of each image. But, we will consider the image with highest probability."
      ]
    },
    {
      "cell_type": "code",
      "metadata": {
        "colab": {
          "base_uri": "https://localhost:8080/"
        },
        "id": "nxXw9OU1GqWc",
        "outputId": "3ff46fea-ab19-4949-f86f-43498cf5455a"
      },
      "source": [
        "np.argmax(pred[2])"
      ],
      "execution_count": 91,
      "outputs": [
        {
          "output_type": "execute_result",
          "data": {
            "text/plain": [
              "1"
            ]
          },
          "metadata": {
            "tags": []
          },
          "execution_count": 91
        }
      ]
    },
    {
      "cell_type": "code",
      "metadata": {
        "colab": {
          "base_uri": "https://localhost:8080/"
        },
        "id": "QeGevjhzG2EN",
        "outputId": "5fb41a67-751b-43b8-cd51-407a77a924bd"
      },
      "source": [
        "test_labels[2]"
      ],
      "execution_count": 92,
      "outputs": [
        {
          "output_type": "execute_result",
          "data": {
            "text/plain": [
              "1"
            ]
          },
          "metadata": {
            "tags": []
          },
          "execution_count": 92
        }
      ]
    },
    {
      "cell_type": "markdown",
      "metadata": {
        "id": "tjFxYdLq3NnD"
      },
      "source": [
        "We can see that both predicted and test returns result as class 1 which is \"Trouser\""
      ]
    },
    {
      "cell_type": "markdown",
      "metadata": {
        "id": "ubzfF0mZCG9E"
      },
      "source": [
        "#### Take an image from test dataset "
      ]
    },
    {
      "cell_type": "code",
      "metadata": {
        "colab": {
          "base_uri": "https://localhost:8080/"
        },
        "id": "z0QY_6FUG2HZ",
        "outputId": "9f738ae0-5db0-469f-cae1-85e887764dd6"
      },
      "source": [
        "img=test_images[0]\r\n",
        "img.shape"
      ],
      "execution_count": 93,
      "outputs": [
        {
          "output_type": "execute_result",
          "data": {
            "text/plain": [
              "(28, 28)"
            ]
          },
          "metadata": {
            "tags": []
          },
          "execution_count": 93
        }
      ]
    },
    {
      "cell_type": "markdown",
      "metadata": {
        "id": "4Ie_6-voChVL"
      },
      "source": [
        "tf.keras.models are optimized to make predictions on a batch or collection of examples at once. So even though we are using a single image we need to add it to a list."
      ]
    },
    {
      "cell_type": "code",
      "metadata": {
        "colab": {
          "base_uri": "https://localhost:8080/"
        },
        "id": "Jr4qM7JpHVLI",
        "outputId": "e379c281-71dd-4772-e248-b2ed4b9e0f35"
      },
      "source": [
        "# It will shape in list format because predict needs list.\r\n",
        "img= (np.expand_dims(img,0))\r\n",
        "img.shape"
      ],
      "execution_count": 94,
      "outputs": [
        {
          "output_type": "execute_result",
          "data": {
            "text/plain": [
              "(1, 28, 28)"
            ]
          },
          "metadata": {
            "tags": []
          },
          "execution_count": 94
        }
      ]
    },
    {
      "cell_type": "code",
      "metadata": {
        "colab": {
          "base_uri": "https://localhost:8080/"
        },
        "id": "U2h0I4BwHVN-",
        "outputId": "644d6cfd-c04b-4fdb-8541-c6432a50f6b0"
      },
      "source": [
        "pred= model.predict(img)\r\n",
        "print(pred)"
      ],
      "execution_count": 95,
      "outputs": [
        {
          "output_type": "stream",
          "text": [
            "[[1.5394544e-06 1.9718463e-08 3.1315768e-08 2.3430372e-08 1.1623691e-06\n",
            "  2.1679839e-03 4.8579755e-06 5.0357017e-03 2.5105378e-06 9.9278611e-01]]\n"
          ],
          "name": "stdout"
        }
      ]
    },
    {
      "cell_type": "code",
      "metadata": {
        "colab": {
          "base_uri": "https://localhost:8080/"
        },
        "id": "pTDVGrrFHVRs",
        "outputId": "35b6995b-308f-4535-d86f-8a040e32410b"
      },
      "source": [
        "pred= pred[0]\r\n",
        "np.argmax(pred)"
      ],
      "execution_count": 96,
      "outputs": [
        {
          "output_type": "execute_result",
          "data": {
            "text/plain": [
              "9"
            ]
          },
          "metadata": {
            "tags": []
          },
          "execution_count": 96
        }
      ]
    },
    {
      "cell_type": "code",
      "metadata": {
        "colab": {
          "base_uri": "https://localhost:8080/"
        },
        "id": "Pg2mP-lDG2K5",
        "outputId": "da3e8b22-2586-4f81-e7dd-19f6781d7bb8"
      },
      "source": [
        "test_labels[0]"
      ],
      "execution_count": 97,
      "outputs": [
        {
          "output_type": "execute_result",
          "data": {
            "text/plain": [
              "9"
            ]
          },
          "metadata": {
            "tags": []
          },
          "execution_count": 97
        }
      ]
    },
    {
      "cell_type": "markdown",
      "metadata": {
        "id": "RArvc_sQDQ3I"
      },
      "source": [
        "Here we can we predicted and test label values are matching. It means our model predicted correctly."
      ]
    }
  ]
}